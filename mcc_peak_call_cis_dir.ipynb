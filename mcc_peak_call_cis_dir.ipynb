{
 "cells": [
  {
   "cell_type": "code",
   "execution_count": 1,
   "metadata": {},
   "outputs": [],
   "source": [
    "import lotron2\n",
    "import csv\n",
    "import pandas as pd\n",
    "import numpy as np\n",
    "import os"
   ]
  },
  {
   "cell_type": "code",
   "execution_count": 6,
   "metadata": {},
   "outputs": [],
   "source": [
    "bigwig_dir = '/project/davieslab/datashare/jhamley/cd4_enh/Z003/cd4_enh_Z003/'\n",
    "oligo_file = bigwig_dir + 'cd4_hv3_hg38_enh2.txt'\n",
    "write_dir = '/project/Wellcome_Discovery/datashare/lhentges/jhamley_mcc_cd4_enh/Z003/'\n",
    "ext = '_ext_de_norm_rep_cd4_enh_Z003_merged.bw'\n",
    "\n",
    "\n",
    "# lotron2 parameters\n",
    "threshold_list = [2, 4, 6]\n",
    "background_list = [10**4, 10**5, 10**6]\n",
    "window_list = [200, 400, 600]\n",
    "threshold_cumulative_init = 9\n",
    "min_size = 50\n",
    "max_size = 500\n",
    "min_read_count = 5\n",
    "single_read_cov_depth = 'estimate'"
   ]
  },
  {
   "cell_type": "code",
   "execution_count": 3,
   "metadata": {},
   "outputs": [],
   "source": [
    "def calc_peak_stats(start, end, chrom_cov_array):\n",
    "    # Calculate peak stats\n",
    "    peak_size = end - start\n",
    "    peak_max = chrom_cov_array[start:end].max()\n",
    "    peak_max_pos = chrom_cov_array[start:end].argmax() + start\n",
    "    peak_sum = chrom_cov_array[start:end].sum()\n",
    "    peak_mean = chrom_cov_array[start:end].mean()\n",
    "\n",
    "    return peak_size, peak_max, int(peak_max_pos), peak_sum, peak_mean    "
   ]
  },
  {
   "cell_type": "code",
   "execution_count": 7,
   "metadata": {},
   "outputs": [],
   "source": [
    "def estimate_single_read_cov_depth(chrom_cov_array):\n",
    "    chrom_cov_nonzero = np.ma.masked_where(chrom_cov_array <= 0, chrom_cov_array)\n",
    "    min_reads = chrom_cov_nonzero.min()\n",
    "    return min_reads"
   ]
  },
  {
   "cell_type": "code",
   "execution_count": 4,
   "metadata": {},
   "outputs": [],
   "source": [
    "bigwig_list = []\n",
    "for file in os.listdir(bigwig_dir):\n",
    "    if file.endswith(ext):\n",
    "        bigwig_list.append(bigwig_dir+file)"
   ]
  },
  {
   "cell_type": "code",
   "execution_count": 5,
   "metadata": {},
   "outputs": [],
   "source": [
    "completed_list = []\n",
    "for file in os.listdir(write_dir):\n",
    "    if file.endswith('.csv'):\n",
    "        completed_list.append(file.split('_')[0])"
   ]
  },
  {
   "cell_type": "code",
   "execution_count": 9,
   "metadata": {},
   "outputs": [],
   "source": [
    "exp_dict = {}\n",
    "with open(oligo_file) as f:\n",
    "    csv_reader = csv.reader(f, delimiter='\\t')\n",
    "    for row in csv_reader:\n",
    "        file = bigwig_dir + row[3] + ext\n",
    "        if file in bigwig_list and row[3] not in completed_list:\n",
    "            if row[3] not in exp_dict:\n",
    "                exp_dict[row[3]] = {}\n",
    "                exp_dict[row[3]]['chr'] = row[0]\n",
    "                exp_dict[row[3]]['file'] = file\n",
    "            else:\n",
    "                print('duplicate', row[3])"
   ]
  },
  {
   "cell_type": "code",
   "execution_count": 10,
   "metadata": {},
   "outputs": [
    {
     "name": "stdout",
     "output_type": "stream",
     "text": [
      "1\n"
     ]
    }
   ],
   "source": [
    "print(len(exp_dict))"
   ]
  },
  {
   "cell_type": "code",
   "execution_count": 13,
   "metadata": {},
   "outputs": [
    {
     "name": "stdout",
     "output_type": "stream",
     "text": [
      "rs112534607 no peaks\n",
      "7 of 7\r"
     ]
    }
   ],
   "source": [
    "for i, exp in enumerate(exp_dict):\n",
    "    print(i + 1, 'of', len(exp_dict), end='\\r')\n",
    "    bw_lotron2 = lotron2.BigwigData(exp_dict[exp]['file'])\n",
    "    chrom_cov_array = bw_lotron2.get_chrom_info_make_coverage_map(exp_dict[exp]['chr'])\n",
    "    if single_read_cov_depth == 'estimate':\n",
    "        single_read_cov_depth_value = estimate_single_read_cov_depth(chrom_cov_array)\n",
    "    else:\n",
    "        single_read_cov_depth_value = single_read_cov_depth\n",
    "    background_global_min = single_read_cov_depth_value * min_read_count\n",
    "    mcc_peaks = bw_lotron2.call_candidate_peaks_lotron_chrom(threshold_cumulative_init, exp_dict[exp]['chr'], background_list, window_list, threshold_list, min_size, max_size, background_global_min)\n",
    "    if len(mcc_peaks) == 0:\n",
    "        print(exp, 'no peaks')\n",
    "        continue\n",
    "    mcc_peaks[['peak_size', 'peak_max', 'peak_max_pos', 'peak_sum', 'peak_mean']] = mcc_peaks.apply(lambda row: pd.Series(calc_peak_stats(row['Start'], row['End'], chrom_cov_array)), axis=1)\n",
    "    mcc_peaks['peak_max_pos'] = mcc_peaks['peak_max_pos'].astype(int)\n",
    "    mcc_peaks.sort_values(by=['peak_max'], inplace=True, ascending=False)\n",
    "    mcc_peaks.to_csv(write_dir + exp + '_mcc_peaks.csv', index=False, header=True, sep='\\t')\n"
   ]
  },
  {
   "cell_type": "code",
   "execution_count": 12,
   "metadata": {},
   "outputs": [
    {
     "data": {
      "text/html": [
       "<div>\n",
       "<style scoped>\n",
       "    .dataframe tbody tr th:only-of-type {\n",
       "        vertical-align: middle;\n",
       "    }\n",
       "\n",
       "    .dataframe tbody tr th {\n",
       "        vertical-align: top;\n",
       "    }\n",
       "\n",
       "    .dataframe thead th {\n",
       "        text-align: right;\n",
       "    }\n",
       "</style>\n",
       "<table border=\"1\" class=\"dataframe\">\n",
       "  <thead>\n",
       "    <tr style=\"text-align: right;\">\n",
       "      <th></th>\n",
       "      <th>Chromosome</th>\n",
       "      <th>Start</th>\n",
       "      <th>End</th>\n",
       "    </tr>\n",
       "  </thead>\n",
       "  <tbody>\n",
       "  </tbody>\n",
       "</table>\n",
       "</div>"
      ],
      "text/plain": [
       "Empty DataFrame\n",
       "Columns: [Chromosome, Start, End]\n",
       "Index: []"
      ]
     },
     "execution_count": 12,
     "metadata": {},
     "output_type": "execute_result"
    }
   ],
   "source": [
    "mcc_peaks.head()"
   ]
  },
  {
   "cell_type": "code",
   "execution_count": null,
   "metadata": {},
   "outputs": [],
   "source": []
  },
  {
   "cell_type": "code",
   "execution_count": 18,
   "metadata": {},
   "outputs": [
    {
     "data": {
      "text/html": [
       "<div>\n",
       "<style scoped>\n",
       "    .dataframe tbody tr th:only-of-type {\n",
       "        vertical-align: middle;\n",
       "    }\n",
       "\n",
       "    .dataframe tbody tr th {\n",
       "        vertical-align: top;\n",
       "    }\n",
       "\n",
       "    .dataframe thead th {\n",
       "        text-align: right;\n",
       "    }\n",
       "</style>\n",
       "<table border=\"1\" class=\"dataframe\">\n",
       "  <thead>\n",
       "    <tr style=\"text-align: right;\">\n",
       "      <th></th>\n",
       "      <th>Chromosome</th>\n",
       "      <th>Start</th>\n",
       "      <th>End</th>\n",
       "      <th>peak_size</th>\n",
       "      <th>peak_max</th>\n",
       "      <th>peak_max_pos</th>\n",
       "      <th>peak_sum</th>\n",
       "      <th>peak_mean</th>\n",
       "    </tr>\n",
       "  </thead>\n",
       "  <tbody>\n",
       "    <tr>\n",
       "      <th>1</th>\n",
       "      <td>chr5</td>\n",
       "      <td>130652118</td>\n",
       "      <td>130652442</td>\n",
       "      <td>324.0</td>\n",
       "      <td>235.632599</td>\n",
       "      <td>130652322</td>\n",
       "      <td>33716.483590</td>\n",
       "      <td>104.063221</td>\n",
       "    </tr>\n",
       "    <tr>\n",
       "      <th>4</th>\n",
       "      <td>chr5</td>\n",
       "      <td>130652565</td>\n",
       "      <td>130652636</td>\n",
       "      <td>71.0</td>\n",
       "      <td>139.067657</td>\n",
       "      <td>130652592</td>\n",
       "      <td>8332.810127</td>\n",
       "      <td>117.363523</td>\n",
       "    </tr>\n",
       "    <tr>\n",
       "      <th>3</th>\n",
       "      <td>chr5</td>\n",
       "      <td>130652510</td>\n",
       "      <td>130652533</td>\n",
       "      <td>23.0</td>\n",
       "      <td>91.930046</td>\n",
       "      <td>130652529</td>\n",
       "      <td>1836.248489</td>\n",
       "      <td>79.836891</td>\n",
       "    </tr>\n",
       "    <tr>\n",
       "      <th>5</th>\n",
       "      <td>chr5</td>\n",
       "      <td>130652766</td>\n",
       "      <td>130652769</td>\n",
       "      <td>3.0</td>\n",
       "      <td>31.575691</td>\n",
       "      <td>130652768</td>\n",
       "      <td>91.259457</td>\n",
       "      <td>30.419819</td>\n",
       "    </tr>\n",
       "    <tr>\n",
       "      <th>6</th>\n",
       "      <td>chr5</td>\n",
       "      <td>130653641</td>\n",
       "      <td>130654058</td>\n",
       "      <td>417.0</td>\n",
       "      <td>23.514524</td>\n",
       "      <td>130653895</td>\n",
       "      <td>6130.158633</td>\n",
       "      <td>14.700620</td>\n",
       "    </tr>\n",
       "  </tbody>\n",
       "</table>\n",
       "</div>"
      ],
      "text/plain": [
       "  Chromosome      Start        End  peak_size    peak_max  peak_max_pos  \\\n",
       "1       chr5  130652118  130652442      324.0  235.632599     130652322   \n",
       "4       chr5  130652565  130652636       71.0  139.067657     130652592   \n",
       "3       chr5  130652510  130652533       23.0   91.930046     130652529   \n",
       "5       chr5  130652766  130652769        3.0   31.575691     130652768   \n",
       "6       chr5  130653641  130654058      417.0   23.514524     130653895   \n",
       "\n",
       "       peak_sum   peak_mean  \n",
       "1  33716.483590  104.063221  \n",
       "4   8332.810127  117.363523  \n",
       "3   1836.248489   79.836891  \n",
       "5     91.259457   30.419819  \n",
       "6   6130.158633   14.700620  "
      ]
     },
     "execution_count": 18,
     "metadata": {},
     "output_type": "execute_result"
    }
   ],
   "source": [
    "mcc_peaks.head()"
   ]
  },
  {
   "cell_type": "code",
   "execution_count": 19,
   "metadata": {},
   "outputs": [
    {
     "name": "stdout",
     "output_type": "stream",
     "text": [
      "7\n"
     ]
    }
   ],
   "source": [
    "print(len(mcc_peaks))"
   ]
  },
  {
   "cell_type": "code",
   "execution_count": null,
   "metadata": {},
   "outputs": [],
   "source": []
  },
  {
   "cell_type": "code",
   "execution_count": null,
   "metadata": {},
   "outputs": [],
   "source": []
  }
 ],
 "metadata": {
  "kernelspec": {
   "display_name": "Python 3",
   "language": "python",
   "name": "python3"
  },
  "language_info": {
   "codemirror_mode": {
    "name": "ipython",
    "version": 3
   },
   "file_extension": ".py",
   "mimetype": "text/x-python",
   "name": "python",
   "nbconvert_exporter": "python",
   "pygments_lexer": "ipython3",
   "version": "3.8.17"
  }
 },
 "nbformat": 4,
 "nbformat_minor": 2
}
